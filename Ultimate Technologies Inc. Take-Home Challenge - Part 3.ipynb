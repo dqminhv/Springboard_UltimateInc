{
 "cells": [
  {
   "cell_type": "markdown",
   "id": "c10e0936",
   "metadata": {},
   "source": [
    "# Part 3"
   ]
  },
  {
   "cell_type": "code",
   "execution_count": 1,
   "id": "b0c20d50",
   "metadata": {},
   "outputs": [],
   "source": [
    "#Import required packages\n",
    "import pandas as pd\n",
    "import numpy as np\n",
    "import matplotlib.pyplot as plt\n",
    "import seaborn as sns\n",
    "from datetime import datetime, timedelta\n",
    "import matplotlib.dates as mdates"
   ]
  },
  {
   "cell_type": "code",
   "execution_count": 2,
   "id": "fcbd4761",
   "metadata": {},
   "outputs": [],
   "source": [
    "pd.set_option('display.max_rows', None)"
   ]
  },
  {
   "cell_type": "code",
   "execution_count": 3,
   "id": "bd7e841b",
   "metadata": {},
   "outputs": [
    {
     "ename": "NameError",
     "evalue": "name 'login_data_path' is not defined",
     "output_type": "error",
     "traceback": [
      "\u001b[0;31m---------------------------------------------------------------------------\u001b[0m",
      "\u001b[0;31mNameError\u001b[0m                                 Traceback (most recent call last)",
      "Cell \u001b[0;32mIn[3], line 5\u001b[0m\n\u001b[1;32m      2\u001b[0m ultimate_data_path \u001b[38;5;241m=\u001b[39m \u001b[38;5;124m\"\u001b[39m\u001b[38;5;124m/home/dqminhv/Springboard/Take_home_challenge/data/ultimate_data_challenge.json\u001b[39m\u001b[38;5;124m\"\u001b[39m\n\u001b[1;32m      4\u001b[0m \u001b[38;5;66;03m#Load the dataset to a pandas dataframe\u001b[39;00m\n\u001b[0;32m----> 5\u001b[0m ultimate_df \u001b[38;5;241m=\u001b[39m pd\u001b[38;5;241m.\u001b[39mread_json(\u001b[43mlogin_data_path\u001b[49m)\n",
      "\u001b[0;31mNameError\u001b[0m: name 'login_data_path' is not defined"
     ]
    }
   ],
   "source": [
    "#Create a data file path\n",
    "ultimate_data_path = \"/home/dqminhv/Springboard/Take_home_challenge/data/ultimate_data_challenge.json\"\n",
    "\n",
    "#Load the dataset to a pandas dataframe\n",
    "ultimate_df = pd.read_json(login_data_path)"
   ]
  },
  {
   "cell_type": "code",
   "execution_count": null,
   "id": "6418173f",
   "metadata": {},
   "outputs": [],
   "source": []
  }
 ],
 "metadata": {
  "kernelspec": {
   "display_name": "Python 3 (ipykernel)",
   "language": "python",
   "name": "python3"
  },
  "language_info": {
   "codemirror_mode": {
    "name": "ipython",
    "version": 3
   },
   "file_extension": ".py",
   "mimetype": "text/x-python",
   "name": "python",
   "nbconvert_exporter": "python",
   "pygments_lexer": "ipython3",
   "version": "3.9.2"
  },
  "toc": {
   "base_numbering": 1,
   "nav_menu": {},
   "number_sections": true,
   "sideBar": true,
   "skip_h1_title": false,
   "title_cell": "Table of Contents",
   "title_sidebar": "Contents",
   "toc_cell": false,
   "toc_position": {},
   "toc_section_display": true,
   "toc_window_display": false
  }
 },
 "nbformat": 4,
 "nbformat_minor": 5
}
